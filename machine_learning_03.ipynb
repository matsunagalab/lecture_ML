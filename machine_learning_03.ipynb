{
  "nbformat": 4,
  "nbformat_minor": 0,
  "metadata": {
    "colab": {
      "private_outputs": true,
      "provenance": [],
      "authorship_tag": "ABX9TyORhzbjpQpnkwBbZclo2aAz",
      "include_colab_link": true
    },
    "kernelspec": {
      "name": "python3",
      "display_name": "Python 3"
    },
    "language_info": {
      "name": "python"
    },
    "gpuClass": "standard"
  },
  "cells": [
    {
      "cell_type": "markdown",
      "metadata": {
        "id": "view-in-github",
        "colab_type": "text"
      },
      "source": [
        "<a href=\"https://colab.research.google.com/github/matsunagalab/lecture_ML/blob/main/machine_learning_03.ipynb\" target=\"_parent\"><img src=\"https://colab.research.google.com/assets/colab-badge.svg\" alt=\"Open In Colab\"/></a>"
      ]
    },
    {
      "cell_type": "markdown",
      "source": [
        "# 第3回 回帰：基礎的事項\n"
      ],
      "metadata": {
        "id": "Y3pXof4n2o2j"
      }
    },
    {
      "cell_type": "markdown",
      "source": [
        "## 単回帰"
      ],
      "metadata": {
        "id": "u3R-uajwoPFP"
      }
    },
    {
      "cell_type": "markdown",
      "source": [
        "切片1で傾き2にノイズを加えたラベルありデータ$\\{y_n, x_n\\}_{n=1}^{N}$を$N=100$点つくってプロットします。"
      ],
      "metadata": {
        "id": "KWX3MGT2o-lu"
      }
    },
    {
      "cell_type": "code",
      "source": [
        "import numpy as np\n",
        "import matplotlib.pyplot as plt\n",
        "from sklearn.linear_model import LinearRegression\n",
        "from sklearn.model_selection import train_test_split\n",
        "from sklearn.metrics import mean_squared_error, r2_score\n",
        "\n",
        "N = 100\n",
        "x = np.random.rand(N)\n",
        "y = 1.0 + 2.0 * x + 0.3 * np.random.randn(N)\n",
        "\n",
        "# Split the data into training and testing sets\n",
        "x_train, x_test, y_train, y_test = train_test_split(x, y, test_size=0.2, random_state=42)\n",
        "\n",
        "# Perform regression using the LinearRegression\n",
        "reg = LinearRegression()\n",
        "reg.fit(x_train.reshape(-1, 1), y_train)\n",
        "\n",
        "# Make predictions on the test set\n",
        "y_pred = reg.predict(x_test.reshape(-1, 1))\n",
        "\n",
        "# Calculate the mean squared error of the predictions\n",
        "mse = mean_squared_error(y_test, y_pred)\n",
        "print(\"Mean squared error:\", mse)\n",
        "\n",
        "# Calculate the coefficient of determination (R^2) of the predictions\n",
        "r2 = r2_score(y_test, y_pred)\n",
        "print(\"R^2 score:\", r2)\n",
        "\n",
        "# Plot the data and regression line\n",
        "x_grid = np.linspace(0, 1, num=100)\n",
        "y_hat = reg.predict(x_grid.reshape(-1, 1))\n",
        "plt.scatter(x_train, y_train, label=\"Training data\")\n",
        "plt.scatter(x_test, y_test, label=\"Test data\")\n",
        "plt.plot(x_grid, y_hat, lw=3, label=\"Regression\", color=\"red\")\n",
        "plt.xlabel(\"x\")\n",
        "plt.ylabel(\"y\")\n",
        "plt.legend(loc=\"upper left\")\n",
        "plt.show()"
      ],
      "metadata": {
        "id": "4-wjGsDPNF9I"
      },
      "execution_count": null,
      "outputs": []
    },
    {
      "cell_type": "markdown",
      "source": [
        "## 重回帰"
      ],
      "metadata": {
        "id": "YBAU2YkWoTPG"
      }
    },
    {
      "cell_type": "markdown",
      "source": [
        "$x_1$と$x_2$の2つの入力があり、切片1でそれぞれ傾き2.0と3.0のモデルにノイズを加えたラベルありデータ$\\{y_n, x_n\\}_{n=1}^{N}$を$N=100$点つくってプロットします。"
      ],
      "metadata": {
        "id": "Rapa2xiIpDLN"
      }
    },
    {
      "cell_type": "code",
      "source": [
        "import numpy as np\n",
        "import matplotlib.pyplot as plt\n",
        "from mpl_toolkits.mplot3d import Axes3D\n",
        "from sklearn.linear_model import LinearRegression\n",
        "from sklearn.model_selection import train_test_split\n",
        "from sklearn.metrics import mean_squared_error, r2_score\n",
        "\n",
        "N = 100\n",
        "x1 = np.random.rand(N)\n",
        "x2 = np.random.rand(N)\n",
        "y = 1.0 + 2.0 * x1 + 3.0 * x2 + 0.3 * np.random.randn(N)\n",
        "\n",
        "# Combine the two feature arrays into a single 2D array\n",
        "X = np.column_stack((x1, x2))\n",
        "\n",
        "# Split the data into training and testing sets\n",
        "X_train, X_test, y_train, y_test = train_test_split(X, y, test_size=0.2, random_state=42)\n",
        "\n",
        "# Perform regression using the LinearRegression\n",
        "reg = LinearRegression()\n",
        "reg.fit(X_train, y_train)\n",
        "\n",
        "# Make predictions on the test set\n",
        "y_pred = reg.predict(X_test)\n",
        "\n",
        "# Calculate the mean squared error of the predictions\n",
        "mse = mean_squared_error(y_test, y_pred)\n",
        "print(\"Mean squared error:\", mse)\n",
        "\n",
        "# Calculate the coefficient of determination (R^2) of the predictions\n",
        "r2 = r2_score(y_test, y_pred)\n",
        "print(\"R^2 score:\", r2)\n",
        "\n",
        "# Plot the data and regression plane\n",
        "fig = plt.figure()\n",
        "ax = fig.add_subplot(111, projection=\"3d\")\n",
        "ax.scatter(X_train[:, 0], X_train[:, 1], y_train, c='b', marker='o', label=\"Training data\")\n",
        "ax.scatter(X_test[:, 0], X_test[:, 1], y_test, c='r', marker='^', label=\"Test data\")\n",
        "\n",
        "x1_grid, x2_grid = np.meshgrid(np.linspace(0, 1, num=10), np.linspace(0, 1, num=10))\n",
        "X_grid = np.column_stack((x1_grid.ravel(), x2_grid.ravel()))\n",
        "y_hat = reg.predict(X_grid).reshape(x1_grid.shape)\n",
        "\n",
        "ax.plot_surface(x1_grid, x2_grid, y_hat, alpha=0.3, color=\"red\")\n",
        "ax.set_xlabel(\"x1\")\n",
        "ax.set_ylabel(\"x2\")\n",
        "ax.set_zlabel(\"y\")\n",
        "ax.legend(loc=\"upper left\")\n",
        "plt.show()"
      ],
      "metadata": {
        "id": "hQyfJPEio7so"
      },
      "execution_count": null,
      "outputs": []
    },
    {
      "cell_type": "markdown",
      "source": [
        "## California housing データへの応用"
      ],
      "metadata": {
        "id": "oiwxE7fkoVsY"
      }
    },
    {
      "cell_type": "markdown",
      "source": [
        "このデータセットは、米国カリフォルニア州の各ブロック地区における住宅価格データです。データセットには20640の観測値があり、特徴量xが8つと、目的変数yとして住宅価格が含まれています。\n",
        "\n",
        "具体的な特徴量は以下です：\n",
        "* MedInc：ブロックの中央所得\n",
        "* HouseAge：ブロックの家の中央年齢\n",
        "* AveRooms：世帯あたりの平均部屋数\n",
        "* AveBedrms：世帯あたりの平均寝室数\n",
        "* Population：ブロックの人口\n",
        "* AveOccup：世帯あたりの平均家族人数\n",
        "* Latitude：ブロックの緯度\n",
        "* Longitude：ブロックの経度\n",
        "\n",
        "このデータに対し重回帰分析を行って結果をプロットします。\n",
        "\n"
      ],
      "metadata": {
        "id": "uPdiF82xpqco"
      }
    },
    {
      "cell_type": "code",
      "source": [
        "import numpy as np\n",
        "import matplotlib.pyplot as plt\n",
        "from sklearn.linear_model import LinearRegression\n",
        "from sklearn.model_selection import train_test_split\n",
        "from sklearn.metrics import mean_squared_error, r2_score\n",
        "from sklearn.datasets import fetch_california_housing\n",
        "\n",
        "# Load California housing data\n",
        "data = fetch_california_housing()\n",
        "X, y = data.data, data.target\n",
        "\n",
        "# Split the data into training and testing sets\n",
        "X_train, X_test, y_train, y_test = train_test_split(X, y, test_size=0.2, random_state=42)\n",
        "\n",
        "# Perform regression using the LinearRegression\n",
        "reg = LinearRegression()\n",
        "reg.fit(X_train, y_train)\n",
        "\n",
        "# Make predictions on the test set\n",
        "y_pred = reg.predict(X_test)\n",
        "\n",
        "# Calculate the mean squared error of the predictions\n",
        "mse = mean_squared_error(y_test, y_pred)\n",
        "print(\"Mean squared error:\", mse)\n",
        "\n",
        "# Calculate the coefficient of determination (R^2) of the predictions\n",
        "r2 = r2_score(y_test, y_pred)\n",
        "print(\"R^2 score:\", r2)\n",
        "\n",
        "# Plot the data and regression line for all features\n",
        "n_features = X.shape[1]\n",
        "n_columns = 4\n",
        "n_rows = int(np.ceil(n_features / n_columns))\n",
        "fig, axes = plt.subplots(n_rows, n_columns, figsize=(16, 8))\n",
        "\n",
        "for feature in range(n_features):\n",
        "    row, col = divmod(feature, n_columns)\n",
        "    \n",
        "    x_grid = np.linspace(X_test[:, feature].min(), X_test[:, feature].max(), num=100)\n",
        "    X_test_feature = X_test.copy()\n",
        "    \n",
        "    for val in x_grid:\n",
        "        X_test_feature[:, feature] = val\n",
        "        y_hat = reg.predict(X_test_feature)\n",
        "        axes[row, col].plot(val, np.mean(y_hat), 'r.', alpha=0.5)\n",
        "    \n",
        "    axes[row, col].scatter(X_train[:, feature], y_train, c=\"blue\", marker=\"o\", alpha=0.3, label=\"Training data\")\n",
        "    axes[row, col].scatter(X_test[:, feature], y_test, c=\"red\", marker=\"^\", alpha=0.3, label=\"Test data\")\n",
        "    axes[row, col].set_xlabel(data.feature_names[feature])\n",
        "    axes[row, col].set_ylabel(\"Target\")\n",
        "    axes[row, col].legend(loc=\"upper left\")\n",
        "\n",
        "# Remove unused subplots\n",
        "for i in range(n_features, n_columns * n_rows):\n",
        "    row, col = divmod(i, n_columns)\n",
        "    fig.delaxes(axes[row, col])\n",
        "\n",
        "plt.tight_layout()\n",
        "plt.show()"
      ],
      "metadata": {
        "id": "3DjmzW4EtwNc"
      },
      "execution_count": null,
      "outputs": []
    },
    {
      "cell_type": "code",
      "source": [],
      "metadata": {
        "id": "jQHL-YJUjMg3"
      },
      "execution_count": null,
      "outputs": []
    }
  ]
}