{
  "nbformat": 4,
  "nbformat_minor": 0,
  "metadata": {
    "colab": {
      "private_outputs": true,
      "provenance": [],
      "authorship_tag": "ABX9TyMYJ3i6bTkukiXPR8oUpfB6",
      "include_colab_link": true
    },
    "kernelspec": {
      "name": "python3",
      "display_name": "Python 3"
    },
    "language_info": {
      "name": "python"
    },
    "gpuClass": "standard"
  },
  "cells": [
    {
      "cell_type": "markdown",
      "metadata": {
        "id": "view-in-github",
        "colab_type": "text"
      },
      "source": [
        "<a href=\"https://colab.research.google.com/github/matsunagalab/lecture_ML/blob/main/machine_learning_04.ipynb\" target=\"_parent\"><img src=\"https://colab.research.google.com/assets/colab-badge.svg\" alt=\"Open In Colab\"/></a>"
      ]
    },
    {
      "cell_type": "markdown",
      "source": [
        "# 第4回 回帰その2：過学習と正則化\n"
      ],
      "metadata": {
        "id": "Y3pXof4n2o2j"
      }
    },
    {
      "cell_type": "markdown",
      "source": [
        "## 多項式の回帰"
      ],
      "metadata": {
        "id": "u3R-uajwoPFP"
      }
    },
    {
      "cell_type": "markdown",
      "source": [
        "授業中に出てきた多項式の回帰を行います"
      ],
      "metadata": {
        "id": "KWX3MGT2o-lu"
      }
    },
    {
      "cell_type": "code",
      "source": [
        "import numpy as np\n",
        "import matplotlib.pyplot as plt\n",
        "from sklearn.preprocessing import StandardScaler\n",
        "from sklearn.linear_model import LinearRegression\n",
        "\n",
        "# テストデータの作成\n",
        "N = 50\n",
        "x = 2.0 * (np.random.rand(N) - 0.5)\n",
        "x = np.sort(x)\n",
        "X = np.column_stack([x**i for i in range(1, 14)])\n",
        "w_true = np.array([0.0, 0.0, 1.0, 0.0, 0.0, 0.0, 0.0, 0.0, 0.0, 0.0, 0.0, 0.0, 0.0])\n",
        "y = X @ w_true + 0.1 * np.random.randn(N)\n",
        "\n",
        "# データの標準化\n",
        "scaler_y = StandardScaler()\n",
        "y_scaled = scaler_y.fit_transform(y.reshape(-1, 1)).ravel()\n",
        "scaler_X = StandardScaler()\n",
        "X_scaled = scaler_X.fit_transform(X)\n",
        "\n",
        "# 擬似逆行列を使った重回帰の計算\n",
        "reg = LinearRegression(fit_intercept=False)\n",
        "reg.fit(X_scaled, y_scaled)\n",
        "w = reg.coef_\n",
        "print(w)\n",
        "\n",
        "# グラフの描画\n",
        "plt.scatter(X_scaled[:, 0], y_scaled, label=\"data\", marker='o', s=64)\n",
        "plt.plot(X_scaled[:, 0], (X[:, 2] - scaler_X.mean_[2]) / scaler_X.scale_[2], lw=2, label=\"ground-truth\")\n",
        "plt.plot(X_scaled[:, 0], X_scaled @ w, lw=2, label=\"regression\")\n",
        "plt.xlabel(\"x_1\")\n",
        "plt.ylabel(\"y\")\n",
        "plt.legend(loc=\"upper left\")\n",
        "plt.show()"
      ],
      "metadata": {
        "id": "4-wjGsDPNF9I"
      },
      "execution_count": null,
      "outputs": []
    },
    {
      "cell_type": "markdown",
      "source": [
        "## 交差検証"
      ],
      "metadata": {
        "id": "YBAU2YkWoTPG"
      }
    },
    {
      "cell_type": "markdown",
      "source": [
        "交差検証を行います。K=10として様々な次数のモデルの交差検証エラーを求めます"
      ],
      "metadata": {
        "id": "Rapa2xiIpDLN"
      }
    },
    {
      "cell_type": "code",
      "source": [
        "import numpy as np\n",
        "import matplotlib.pyplot as plt\n",
        "from sklearn.linear_model import LinearRegression\n",
        "from sklearn.model_selection import KFold, cross_val_score\n",
        "\n",
        "def compute_cross_validation_error(k, X, y, solver=LinearRegression(fit_intercept=False)):\n",
        "    kf = KFold(n_splits=k, shuffle=True, random_state=42)\n",
        "    reg = solver\n",
        "    cv_error = -cross_val_score(reg, X, y, cv=kf, scoring='neg_mean_squared_error')\n",
        "    return np.mean(cv_error)\n",
        "\n",
        "# 交差検証エラーを求める\n",
        "k = 10\n",
        "print(compute_cross_validation_error(k, X, y))\n",
        "\n",
        "# 様々な次数のモデルの交差検証エラーを求める\n",
        "K = 10\n",
        "nth_order_max = 10\n",
        "cv_error = np.zeros(nth_order_max)\n",
        "for n in range(nth_order_max):\n",
        "    cv_error[n] = compute_cross_validation_error(K, X_scaled[:, :(n+1)], y_scaled)\n",
        "\n",
        "plt.plot(range(1, nth_order_max+1), cv_error, lw=2)\n",
        "plt.yscale(\"log\")\n",
        "plt.xlabel(\"polynomial order\")\n",
        "plt.ylabel(\"cross validation error\")\n",
        "plt.show()\n"
      ],
      "metadata": {
        "id": "hQyfJPEio7so"
      },
      "execution_count": null,
      "outputs": []
    },
    {
      "cell_type": "markdown",
      "source": [
        "## Ridge回帰"
      ],
      "metadata": {
        "id": "oiwxE7fkoVsY"
      }
    },
    {
      "cell_type": "code",
      "source": [
        "import numpy as np\n",
        "import matplotlib.pyplot as plt\n",
        "from sklearn.linear_model import Ridge, RidgeCV\n",
        "from sklearn.model_selection import cross_val_score\n",
        "from sklearn.preprocessing import StandardScaler\n",
        "\n",
        "# RidgeCVを用いて交差検証を行い最適なlambdaを求める\n",
        "alphas = np.logspace(-5, 3, 30)\n",
        "ridge_cv = RidgeCV(alphas=alphas, fit_intercept=False, cv=10)\n",
        "ridge_cv.fit(X_scaled, y_scaled)\n",
        "\n",
        "# 最適なlambdaのRidge回帰を求める\n",
        "best_alpha = ridge_cv.alpha_\n",
        "ridge_reg = Ridge(alpha=best_alpha, fit_intercept=False)\n",
        "ridge_reg.fit(X_scaled, y_scaled)\n",
        "print(ridge_reg.coef_)\n",
        "\n",
        "# 交差検証エラーを求める\n",
        "cv_errors = []\n",
        "for alpha in alphas:\n",
        "    ridge = Ridge(alpha=alpha, fit_intercept=False)\n",
        "    cv_error = -cross_val_score(ridge, X_scaled, y_scaled, cv=10, scoring='neg_mean_squared_error').mean()\n",
        "    cv_errors.append(cv_error)\n",
        "\n",
        "# Plot 1: 交差検証エラーのプロット\n",
        "plt.plot(alphas, cv_errors, lw=2)\n",
        "plt.xscale(\"log\")\n",
        "plt.xlabel(\"lambda\")\n",
        "plt.ylabel(\"cross validation error\")\n",
        "plt.show()\n",
        "\n",
        "# Plot 2: データの散布図と、モデルの予測をラインで重ねてプロット\n",
        "plt.scatter(X_scaled[:, 0], y_scaled, label=\"data\", marker='o', s=64)\n",
        "plt.plot(X_scaled[:, 0], (X[:, 2] - scaler_X.mean_[2]) / scaler_X.scale_[2], lw=2, label=\"ground-truth\")\n",
        "plt.plot(X_scaled[:, 0], X_scaled @ ridge_reg.coef_, lw=2, label=\"ridge\")\n",
        "plt.xlabel(\"x\")\n",
        "plt.ylabel(\"y\")\n",
        "plt.legend(loc=\"upper left\")\n",
        "plt.show()\n"
      ],
      "metadata": {
        "id": "3DjmzW4EtwNc"
      },
      "execution_count": null,
      "outputs": []
    },
    {
      "cell_type": "markdown",
      "source": [
        "## Lasso回帰"
      ],
      "metadata": {
        "id": "QTiNE4fGDKzk"
      }
    },
    {
      "cell_type": "code",
      "source": [
        "import numpy as np\n",
        "import matplotlib.pyplot as plt\n",
        "from sklearn.linear_model import Lasso, LassoCV\n",
        "from sklearn.preprocessing import StandardScaler\n",
        "\n",
        "# LassoCVを用いて交差検証を行い最適なlambdaを求める\n",
        "alphas = np.logspace(-5, 0, 30)\n",
        "lasso_cv = LassoCV(alphas=alphas, fit_intercept=False, max_iter=10000, tol=1e-5, cv=10, random_state=42)\n",
        "lasso_cv.fit(X_scaled, y_scaled)\n",
        "\n",
        "# 最適なlambdaのLasso回帰を求める\n",
        "best_alpha = lasso_cv.alpha_\n",
        "lasso_reg = Lasso(alpha=best_alpha, fit_intercept=False, max_iter=10000, tol=1e-5)\n",
        "lasso_reg.fit(X_scaled, y_scaled)\n",
        "print(best_alpha)\n",
        "print(lasso_reg.coef_)\n",
        "\n",
        "# Plot 1: 交差検証エラーのプロット\n",
        "plt.plot(lasso_cv.alphas_, lasso_cv.mse_path_.mean(axis=-1), lw=2)\n",
        "plt.xscale(\"log\")\n",
        "plt.xlabel(\"lambda\")\n",
        "plt.ylabel(\"cross validation error\")\n",
        "plt.show()\n",
        "\n",
        "# Plot 2: 様々なalphaでのいくつかの偏回帰係数のプロット\n",
        "alphas_path, coef_path, _ = lasso_cv.path(X_scaled, y_scaled)\n",
        "coef_path = coef_path.T\n",
        "for i in range(10):\n",
        "    plt.plot(alphas_path, coef_path[:, i], label=f\"{i+1}st order\")\n",
        "plt.xscale(\"log\")\n",
        "plt.xlabel(\"lambda\")\n",
        "plt.ylabel(\"coefficients\")\n",
        "plt.legend(loc=\"upper right\", bbox_to_anchor=(1.30, 1))\n",
        "plt.show()\n",
        "\n",
        "# Plot 3: データの散布図と、モデルの予測をラインで重ねてプロット\n",
        "plt.scatter(X_scaled[:, 0], y_scaled, label=\"data\", marker='o', s=64)\n",
        "plt.plot(X_scaled[:, 0], (X[:, 2] - scaler_X.mean_[2]) / scaler_X.scale_[2], lw=2, label=\"ground-truth\")\n",
        "plt.plot(X_scaled[:, 0], X_scaled @ lasso_reg.coef_, lw=2, label=\"lasso\")\n",
        "plt.xlabel(\"x\")\n",
        "plt.ylabel(\"y\")\n",
        "plt.legend(loc=\"upper left\")\n",
        "plt.show()\n"
      ],
      "metadata": {
        "id": "jQHL-YJUjMg3"
      },
      "execution_count": null,
      "outputs": []
    },
    {
      "cell_type": "markdown",
      "source": [
        "## California housingへの応用"
      ],
      "metadata": {
        "id": "y16U0_kFEXgG"
      }
    },
    {
      "cell_type": "markdown",
      "source": [
        "このデータセットは、米国カリフォルニア州の各ブロック地区における住宅価格データです。データセットには20640の観測値があり、説明変数(特徴量)xが8つと、目的変数yとして住宅価格が含まれています。\n",
        "\n",
        "具体的な特徴量は以下です：\n",
        "* MedInc：ブロックの中央所得\n",
        "* HouseAge：ブロックの家の中央年齢\n",
        "* AveRooms：世帯あたりの平均部屋数\n",
        "* AveBedrms：世帯あたりの平均寝室数\n",
        "* Population：ブロックの人口\n",
        "* AveOccup：世帯あたりの平均家族人数\n",
        "* Latitude：ブロックの緯度\n",
        "* Longitude：ブロックの経度\n",
        "\n",
        "このデータに対しLasso回帰を行って結果をプロットします。\n",
        "\n"
      ],
      "metadata": {
        "id": "9Mnbd3OwEk_w"
      }
    },
    {
      "cell_type": "code",
      "source": [
        "import numpy as np\n",
        "import matplotlib.pyplot as plt\n",
        "from sklearn.datasets import fetch_california_housing\n",
        "from sklearn.linear_model import Lasso, LassoCV\n",
        "from sklearn.preprocessing import StandardScaler\n",
        "\n",
        "# California housing dataを読み込む\n",
        "data = fetch_california_housing()\n",
        "X, y = data.data, data.target\n",
        "\n",
        "# データを標準化する\n",
        "scaler_y = StandardScaler()\n",
        "scaler_X = StandardScaler()\n",
        "y_scaled = scaler_y.fit_transform(y.reshape(-1, 1)).ravel()\n",
        "X_scaled = scaler_X.fit_transform(X)\n",
        "\n",
        "# 最適なalpha (lambda)を見つけるための交差検証\n",
        "alphas = np.logspace(-5, 0, 30)\n",
        "lasso_cv = LassoCV(alphas=alphas, cv=10)\n",
        "lasso_cv.fit(X_scaled, y_scaled)\n",
        "\n",
        "# 交差検証エラーのプロット\n",
        "plt.plot(lasso_cv.alphas_, lasso_cv.mse_path_.mean(axis=-1), lw=2)\n",
        "plt.xscale(\"log\")\n",
        "plt.xlabel(\"lambda\")\n",
        "plt.ylabel(\"cross validation error\")\n",
        "plt.show()\n",
        "\n",
        "# 様々なalphaでのいくつかの偏回帰係数のプロット\n",
        "alphas_path, coef_path, _ = Lasso().path(X_scaled, y_scaled, alphas=alphas)\n",
        "coef_path = coef_path.T\n",
        "#plt.figure(figsize=(10, 6))\n",
        "ax = plt.gca()\n",
        "lines = ax.semilogx(alphas_path, coef_path)\n",
        "plt.xlabel(\"lambda\")\n",
        "plt.ylabel(\"coefficients\")\n",
        "ax.legend(lines, data.feature_names, loc='center left', bbox_to_anchor=(1, 0.5))\n",
        "plt.show()"
      ],
      "metadata": {
        "id": "x1-nGET4D73-"
      },
      "execution_count": null,
      "outputs": []
    }
  ]
}