{
  "nbformat": 4,
  "nbformat_minor": 0,
  "metadata": {
    "colab": {
      "provenance": [],
      "toc_visible": true,
      "authorship_tag": "ABX9TyMlu7mS94QmRVm4n5RzqiB8",
      "include_colab_link": true
    },
    "kernelspec": {
      "name": "python3",
      "display_name": "Python 3"
    },
    "language_info": {
      "name": "python"
    },
    "gpuClass": "standard"
  },
  "cells": [
    {
      "cell_type": "markdown",
      "metadata": {
        "id": "view-in-github",
        "colab_type": "text"
      },
      "source": [
        "<a href=\"https://colab.research.google.com/github/matsunagalab/lecture_ML/blob/main/machine_learning_01.ipynb\" target=\"_parent\"><img src=\"https://colab.research.google.com/assets/colab-badge.svg\" alt=\"Open In Colab\"/></a>"
      ]
    },
    {
      "cell_type": "markdown",
      "source": [
        "# Pythonの基礎"
      ],
      "metadata": {
        "id": "Y3pXof4n2o2j"
      }
    },
    {
      "cell_type": "markdown",
      "source": [
        "## 変数とデータ型"
      ],
      "metadata": {
        "id": "rlRGUD8b287r"
      }
    },
    {
      "cell_type": "code",
      "execution_count": 34,
      "metadata": {
        "id": "PqShvXJgzJ7D"
      },
      "outputs": [],
      "source": [
        "# 変数\n",
        "x = 5\n",
        "name = \"John\"\n",
        "is_student = True\n",
        "\n",
        "# データ型\n",
        "integer_example = 42\n",
        "float_example = 3.14\n",
        "string_example = \"Hello, World!\"\n",
        "boolean_example = False"
      ]
    },
    {
      "cell_type": "markdown",
      "source": [
        "## 基本的な算術演算"
      ],
      "metadata": {
        "id": "KLdzUrZr3C8k"
      }
    },
    {
      "cell_type": "code",
      "source": [
        "# 足し算\n",
        "result = 3 + 5\n",
        "print(result)  # Output: 8\n",
        "\n",
        "# 引き算\n",
        "result = 10 - 6\n",
        "print(result)  # Output: 4\n",
        "\n",
        "# 掛け算\n",
        "result = 7 * 2\n",
        "print(result)  # Output: 14\n",
        "\n",
        "# 割り算\n",
        "result = 9 / 3\n",
        "print(result)  # Output: 3.0\n",
        "\n",
        "# 剰余\n",
        "result = 10 % 3\n",
        "print(result)  # Output: 1"
      ],
      "metadata": {
        "id": "skeefhxM2Jmt",
        "colab": {
          "base_uri": "https://localhost:8080/"
        },
        "outputId": "6b3043de-3280-4005-c28b-ecc5764a15eb"
      },
      "execution_count": 35,
      "outputs": [
        {
          "output_type": "stream",
          "name": "stdout",
          "text": [
            "8\n",
            "4\n",
            "14\n",
            "3.0\n",
            "1\n"
          ]
        }
      ]
    },
    {
      "cell_type": "markdown",
      "source": [
        "## リスト"
      ],
      "metadata": {
        "id": "sAYCuQZk3TyM"
      }
    },
    {
      "cell_type": "code",
      "source": [
        "# リストの作成\n",
        "fruits = [\"apple\", \"banana\", \"cherry\"]\n",
        "\n",
        "# リストの要素へのアクセス\n",
        "print(fruits[1])  # Output: \"banana\"\n",
        "\n",
        "# リストへ要素を追加\n",
        "fruits.append(\"orange\")\n",
        "\n",
        "# リストから要素を削除\n",
        "fruits.remove(\"banana\")"
      ],
      "metadata": {
        "id": "3LJW2CX22M96",
        "colab": {
          "base_uri": "https://localhost:8080/"
        },
        "outputId": "cfe18fbc-e89b-4fcb-cb01-345b2a86f12e"
      },
      "execution_count": 36,
      "outputs": [
        {
          "output_type": "stream",
          "name": "stdout",
          "text": [
            "banana\n"
          ]
        }
      ]
    },
    {
      "cell_type": "markdown",
      "source": [
        "## 辞書"
      ],
      "metadata": {
        "id": "IMZZzvah3Vje"
      }
    },
    {
      "cell_type": "code",
      "source": [
        "# 辞書の作成\n",
        "student = {\"name\": \"John\", \"age\": 20, \"major\": \"Computer Science\"}\n",
        "\n",
        "# 辞書の要素へアクセス\n",
        "print(student[\"name\"])  # Output: \"John\"\n",
        "\n",
        "# 辞書へkey-valueペアを追加\n",
        "student[\"GPA\"] = 3.5\n",
        "\n",
        "# 辞書からkey-valueペアを削除\n",
        "del student[\"age\"]"
      ],
      "metadata": {
        "id": "sQb97mb22O6M",
        "colab": {
          "base_uri": "https://localhost:8080/"
        },
        "outputId": "802a04f1-a3bc-4c49-c511-086a8b351aab"
      },
      "execution_count": 37,
      "outputs": [
        {
          "output_type": "stream",
          "name": "stdout",
          "text": [
            "John\n"
          ]
        }
      ]
    },
    {
      "cell_type": "markdown",
      "source": [
        "## 制御構文"
      ],
      "metadata": {
        "id": "Ng3YKGck3XZ-"
      }
    },
    {
      "cell_type": "code",
      "source": [
        "# If文の例\n",
        "x = 10\n",
        "\n",
        "if x > 5:\n",
        "    print(\"x is greater than 5\")\n",
        "else:\n",
        "    print(\"x is less than or equal to 5\")"
      ],
      "metadata": {
        "id": "TWWawONM2Qvy",
        "colab": {
          "base_uri": "https://localhost:8080/"
        },
        "outputId": "d618264e-16e8-4037-8202-ceb051321419"
      },
      "execution_count": 38,
      "outputs": [
        {
          "output_type": "stream",
          "name": "stdout",
          "text": [
            "x is greater than 5\n"
          ]
        }
      ]
    },
    {
      "cell_type": "markdown",
      "source": [
        "## ループ"
      ],
      "metadata": {
        "id": "avnDXDAT3dzF"
      }
    },
    {
      "cell_type": "code",
      "source": [
        "# ループの例\n",
        "fruits = [\"apple\", \"banana\", \"cherry\"]\n",
        "\n",
        "for fruit in fruits:\n",
        "    print(fruit)"
      ],
      "metadata": {
        "id": "m3HPK4Wk2S0K",
        "colab": {
          "base_uri": "https://localhost:8080/"
        },
        "outputId": "a970d1af-c635-4dbd-922f-a2ae22a78d72"
      },
      "execution_count": 39,
      "outputs": [
        {
          "output_type": "stream",
          "name": "stdout",
          "text": [
            "apple\n",
            "banana\n",
            "cherry\n"
          ]
        }
      ]
    },
    {
      "cell_type": "markdown",
      "source": [
        "## 関数"
      ],
      "metadata": {
        "id": "g5ON4bdS3g2K"
      }
    },
    {
      "cell_type": "code",
      "source": [
        "# 関数の定義\n",
        "def greet(name):\n",
        "    return f\"Hello, {name}!\"\n",
        "\n",
        "# Calling a function\n",
        "print(greet(\"John\"))  # Output: \"Hello, John!\""
      ],
      "metadata": {
        "id": "g7-MoVQo2UXZ",
        "colab": {
          "base_uri": "https://localhost:8080/"
        },
        "outputId": "4b37d888-549d-4c98-9bc8-e55e93d11d70"
      },
      "execution_count": 40,
      "outputs": [
        {
          "output_type": "stream",
          "name": "stdout",
          "text": [
            "Hello, John!\n"
          ]
        }
      ]
    },
    {
      "cell_type": "markdown",
      "source": [
        "## 関数の応用"
      ],
      "metadata": {
        "id": "vmgGuSDH3iu_"
      }
    },
    {
      "cell_type": "code",
      "source": [
        "# 受け取ったリストが持つ偶数の和を出力する関数\n",
        "def sum_even_numbers(numbers):\n",
        "    even_sum = 0\n",
        "    for num in numbers:\n",
        "        if num % 2 == 0:\n",
        "            even_sum += num\n",
        "    return even_sum\n",
        "\n",
        "# Test the function\n",
        "print(sum_even_numbers([1, 2, 3, 4, 5, 6]))  # Output: 12"
      ],
      "metadata": {
        "id": "hy5menXH2V5c",
        "colab": {
          "base_uri": "https://localhost:8080/"
        },
        "outputId": "897258be-c6ab-472c-ae84-27194df204f5"
      },
      "execution_count": 41,
      "outputs": [
        {
          "output_type": "stream",
          "name": "stdout",
          "text": [
            "12\n"
          ]
        }
      ]
    },
    {
      "cell_type": "markdown",
      "source": [
        "# グラフの描画"
      ],
      "metadata": {
        "id": "TVzK7mvV2wzY"
      }
    },
    {
      "cell_type": "markdown",
      "source": [
        "## matplotlibのインポート"
      ],
      "metadata": {
        "id": "6sfTogRO3pV6"
      }
    },
    {
      "cell_type": "code",
      "source": [
        "# matplotlibのインポート\n",
        "import matplotlib.pyplot as plt"
      ],
      "metadata": {
        "id": "nttIU69A2YMX"
      },
      "execution_count": 42,
      "outputs": []
    },
    {
      "cell_type": "markdown",
      "source": [
        "## 折れ線グラフの描画"
      ],
      "metadata": {
        "id": "zL8ol98A3vY4"
      }
    },
    {
      "cell_type": "code",
      "source": [
        "# サンプルデータ\n",
        "x = [1, 2, 3, 4, 5]\n",
        "y = [2, 4, 6, 8, 10]\n",
        "\n",
        "# 折れ線グラフの描画\n",
        "plt.plot(x, y)\n",
        "\n",
        "# ラベルとタイトルの追加\n",
        "plt.xlabel(\"X\")\n",
        "plt.ylabel(\"Y\")\n",
        "\n",
        "# グラフの表示\n",
        "plt.show()"
      ],
      "metadata": {
        "id": "tZothniO2beo",
        "colab": {
          "base_uri": "https://localhost:8080/",
          "height": 449
        },
        "outputId": "ddf6a920-931f-4f34-9b70-87bc72519adf"
      },
      "execution_count": 43,
      "outputs": [
        {
          "output_type": "display_data",
          "data": {
            "text/plain": [
              "<Figure size 640x480 with 1 Axes>"
            ],
            "image/png": "[encoded data removed]"
          },
          "metadata": {}
        }
      ]
    },
    {
      "cell_type": "markdown",
      "source": [
        "## 散布図の描画"
      ],
      "metadata": {
        "id": "s6PFV7Dy31mS"
      }
    },
    {
      "cell_type": "code",
      "source": [
        "# サンプルデータ\n",
        "x = [1, 2, 3, 4, 5]\n",
        "y = [2, 4, 6, 8, 10]\n",
        "\n",
        "# 散布図の描画\n",
        "plt.scatter(x, y)\n",
        "\n",
        "# ラベルとタイトルの追加\n",
        "plt.xlabel(\"X\")\n",
        "plt.ylabel(\"Y\")\n",
        "\n",
        "# グラフの表示\n",
        "plt.show()"
      ],
      "metadata": {
        "id": "bVBIxN6R2dZs",
        "colab": {
          "base_uri": "https://localhost:8080/",
          "height": 449
        },
        "outputId": "6b451ef2-8886-45c8-c26a-77c3e82d9dbf"
      },
      "execution_count": 44,
      "outputs": [
        {
          "output_type": "display_data",
          "data": {
            "text/plain": [
              "<Figure size 640x480 with 1 Axes>"
            ],
            "image/png": "[encoded data removed]"
          },
          "metadata": {}
        }
      ]
    },
    {
      "cell_type": "markdown",
      "source": [
        "## グラフのカスタマイズ"
      ],
      "metadata": {
        "id": "QkneVJiX37Ut"
      }
    },
    {
      "cell_type": "code",
      "source": [
        "# サンプルデータ\n",
        "x = [1, 2, 3, 4, 5]\n",
        "y = [2, 4, 6, 8, 10]\n",
        "\n",
        "# 折れ線グラフのカスタマイズ\n",
        "plt.plot(x, y, linestyle='--', marker='o', color='red')\n",
        "\n",
        "# ラベルとタイトルの追加\n",
        "plt.xlabel(\"X\")\n",
        "plt.ylabel(\"Y\")\n",
        "\n",
        "# グラフの表示\n",
        "plt.show()"
      ],
      "metadata": {
        "id": "d0eCrsxO2ibl",
        "colab": {
          "base_uri": "https://localhost:8080/",
          "height": 449
        },
        "outputId": "8953c342-405a-4d0c-aec5-fd9f0058e6fc"
      },
      "execution_count": 45,
      "outputs": [
        {
          "output_type": "display_data",
          "data": {
            "text/plain": [
              "<Figure size 640x480 with 1 Axes>"
            ],
            "image/png": "[encoded data removed]"
          },
          "metadata": {}
        }
      ]
    },
    {
      "cell_type": "markdown",
      "source": [
        "# scikit-learnの典型的な使い方\n",
        "\n"
      ],
      "metadata": {
        "id": "TeMCpzxOjqui"
      }
    },
    {
      "cell_type": "markdown",
      "source": [
        "## scikit-learnのインポートとデータセットの生成"
      ],
      "metadata": {
        "id": "xHZNZFfxj7Z2"
      }
    },
    {
      "cell_type": "code",
      "source": [
        "# 必要なライブラリのインポート\n",
        "import numpy as np\n",
        "import matplotlib.pyplot as plt\n",
        "from sklearn.linear_model import LinearRegression\n",
        "from sklearn.model_selection import train_test_split\n",
        "\n",
        "# データセットの生成（例として、単純な線形関係にノイズを加えたデータ）\n",
        "np.random.seed(0)\n",
        "X = 2 * np.random.rand(100, 1)  # 説明変数\n",
        "y = 4 + 3 * X + np.random.randn(100, 1)  # 目的変数\n",
        "\n",
        "# データセットを訓練用とテスト用に分割\n",
        "X_train, X_test, y_train, y_test = train_test_split(X, y, test_size=0.2, random_state=42)\n"
      ],
      "metadata": {
        "id": "7jzWKUH0j5Ro"
      },
      "execution_count": 46,
      "outputs": []
    },
    {
      "cell_type": "markdown",
      "source": [
        "## モデルの作成と訓練 (fit)"
      ],
      "metadata": {
        "id": "4puAsnE7kDl8"
      }
    },
    {
      "cell_type": "code",
      "source": [
        "# 線形回帰モデルの作成\n",
        "model = LinearRegression()\n",
        "\n",
        "# モデルの訓練\n",
        "model.fit(X_train, y_train)"
      ],
      "metadata": {
        "id": "J8oWMO_3kDLH",
        "outputId": "69d9d05a-ece0-4714-f987-0e7390847db2",
        "colab": {
          "base_uri": "https://localhost:8080/",
          "height": 74
        }
      },
      "execution_count": 47,
      "outputs": [
        {
          "output_type": "execute_result",
          "data": {
            "text/plain": [
              "LinearRegression()"
            ],
            "text/html": [
              "<style>#sk-container-id-4 {color: black;background-color: white;}#sk-container-id-4 pre{padding: 0;}#sk-container-id-4 div.sk-toggleable {background-color: white;}#sk-container-id-4 label.sk-toggleable__label {cursor: pointer;display: block;width: 100%;margin-bottom: 0;padding: 0.3em;box-sizing: border-box;text-align: center;}#sk-container-id-4 label.sk-toggleable__label-arrow:before {content: \"▸\";float: left;margin-right: 0.25em;color: #696969;}#sk-container-id-4 label.sk-toggleable__label-arrow:hover:before {color: black;}#sk-container-id-4 div.sk-estimator:hover label.sk-toggleable__label-arrow:before {color: black;}#sk-container-id-4 div.sk-toggleable__content {max-height: 0;max-width: 0;overflow: hidden;text-align: left;background-color: #f0f8ff;}#sk-container-id-4 div.sk-toggleable__content pre {margin: 0.2em;color: black;border-radius: 0.25em;background-color: #f0f8ff;}#sk-container-id-4 input.sk-toggleable__control:checked~div.sk-toggleable__content {max-height: 200px;max-width: 100%;overflow: auto;}#sk-container-id-4 input.sk-toggleable__control:checked~label.sk-toggleable__label-arrow:before {content: \"▾\";}#sk-container-id-4 div.sk-estimator input.sk-toggleable__control:checked~label.sk-toggleable__label {background-color: #d4ebff;}#sk-container-id-4 div.sk-label input.sk-toggleable__control:checked~label.sk-toggleable__label {background-color: #d4ebff;}#sk-container-id-4 input.sk-hidden--visually {border: 0;clip: rect(1px 1px 1px 1px);clip: rect(1px, 1px, 1px, 1px);height: 1px;margin: -1px;overflow: hidden;padding: 0;position: absolute;width: 1px;}#sk-container-id-4 div.sk-estimator {font-family: monospace;background-color: #f0f8ff;border: 1px dotted black;border-radius: 0.25em;box-sizing: border-box;margin-bottom: 0.5em;}#sk-container-id-4 div.sk-estimator:hover {background-color: #d4ebff;}#sk-container-id-4 div.sk-parallel-item::after {content: \"\";width: 100%;border-bottom: 1px solid gray;flex-grow: 1;}#sk-container-id-4 div.sk-label:hover label.sk-toggleable__label {background-color: #d4ebff;}#sk-container-id-4 div.sk-serial::before {content: \"\";position: absolute;border-left: 1px solid gray;box-sizing: border-box;top: 0;bottom: 0;left: 50%;z-index: 0;}#sk-container-id-4 div.sk-serial {display: flex;flex-direction: column;align-items: center;background-color: white;padding-right: 0.2em;padding-left: 0.2em;position: relative;}#sk-container-id-4 div.sk-item {position: relative;z-index: 1;}#sk-container-id-4 div.sk-parallel {display: flex;align-items: stretch;justify-content: center;background-color: white;position: relative;}#sk-container-id-4 div.sk-item::before, #sk-container-id-4 div.sk-parallel-item::before {content: \"\";position: absolute;border-left: 1px solid gray;box-sizing: border-box;top: 0;bottom: 0;left: 50%;z-index: -1;}#sk-container-id-4 div.sk-parallel-item {display: flex;flex-direction: column;z-index: 1;position: relative;background-color: white;}#sk-container-id-4 div.sk-parallel-item:first-child::after {align-self: flex-end;width: 50%;}#sk-container-id-4 div.sk-parallel-item:last-child::after {align-self: flex-start;width: 50%;}#sk-container-id-4 div.sk-parallel-item:only-child::after {width: 0;}#sk-container-id-4 div.sk-dashed-wrapped {border: 1px dashed gray;margin: 0 0.4em 0.5em 0.4em;box-sizing: border-box;padding-bottom: 0.4em;background-color: white;}#sk-container-id-4 div.sk-label label {font-family: monospace;font-weight: bold;display: inline-block;line-height: 1.2em;}#sk-container-id-4 div.sk-label-container {text-align: center;}#sk-container-id-4 div.sk-container {/* jupyter's `normalize.less` sets `[hidden] { display: none; }` but bootstrap.min.css set `[hidden] { display: none !important; }` so we also need the `!important` here to be able to override the default hidden behavior on the sphinx rendered scikit-learn.org. See: https://github.com/scikit-learn/scikit-learn/issues/21755 */display: inline-block !important;position: relative;}#sk-container-id-4 div.sk-text-repr-fallback {display: none;}</style><div id=\"sk-container-id-4\" class=\"sk-top-container\"><div class=\"sk-text-repr-fallback\"><pre>LinearRegression()</pre><b>In a Jupyter environment, please rerun this cell to show the HTML representation or trust the notebook. <br />On GitHub, the HTML representation is unable to render, please try loading this page with nbviewer.org.</b></div><div class=\"sk-container\" hidden><div class=\"sk-item\"><div class=\"sk-estimator sk-toggleable\"><input class=\"sk-toggleable__control sk-hidden--visually\" id=\"sk-estimator-id-4\" type=\"checkbox\" checked><label for=\"sk-estimator-id-4\" class=\"sk-toggleable__label sk-toggleable__label-arrow\">LinearRegression</label><div class=\"sk-toggleable__content\"><pre>LinearRegression()</pre></div></div></div></div></div>"
            ]
          },
          "metadata": {},
          "execution_count": 47
        }
      ]
    },
    {
      "cell_type": "markdown",
      "source": [
        "## モデルを用いた予測 (predict)\n"
      ],
      "metadata": {
        "id": "0nzkL72LkMew"
      }
    },
    {
      "cell_type": "code",
      "source": [
        "# テストデータに対する予測\n",
        "y_pred = model.predict(X_test)\n",
        "\n",
        "# 予測結果の可視化\n",
        "plt.scatter(X_test, y_test, color='blue', label='test data')\n",
        "plt.plot(X_test, y_pred, color='red', label='prediction')\n",
        "plt.xlabel('X')\n",
        "plt.ylabel('Y')\n",
        "plt.legend()\n",
        "plt.show()"
      ],
      "metadata": {
        "id": "g5mE6tk9kLtD",
        "outputId": "a6191830-0e0f-4a3b-d487-008bcdc9df24",
        "colab": {
          "base_uri": "https://localhost:8080/",
          "height": 449
        }
      },
      "execution_count": 48,
      "outputs": [
        {
          "output_type": "display_data",
          "data": {
            "text/plain": [
              "<Figure size 640x480 with 1 Axes>"
            ],
            "image/png": "[encoded data removed]"
          },
          "metadata": {}
        }
      ]
    },
    {
      "cell_type": "markdown",
      "source": [
        "# 更なる学習"
      ],
      "metadata": {
        "id": "Vou8C_tP4A4b"
      }
    },
    {
      "cell_type": "markdown",
      "source": [
        "Pythonを学習するためのコンテンツはネットに多くあるので自分に合うものを見つけて学習してみてください。Google Colabで体験できる教材が良いと思います。思います。おすすめは例えば東大の数理・情報教育センターが公開している以下の教材です。\n",
        "\n",
        "Pythonプログラミング入門\n",
        "\n",
        "https://utokyo-ipp.github.io\n",
        "\n"
      ],
      "metadata": {
        "id": "jodMqh-54DN7"
      }
    }
  ]
}