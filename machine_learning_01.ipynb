{
  "nbformat": 4,
  "nbformat_minor": 0,
  "metadata": {
    "colab": {
      "private_outputs": true,
      "provenance": [],
      "toc_visible": true,
      "authorship_tag": "ABX9TyO/eLhaLS5gOO4BCDmryTxr",
      "include_colab_link": true
    },
    "kernelspec": {
      "name": "python3",
      "display_name": "Python 3"
    },
    "language_info": {
      "name": "python"
    },
    "gpuClass": "standard"
  },
  "cells": [
    {
      "cell_type": "markdown",
      "metadata": {
        "id": "view-in-github",
        "colab_type": "text"
      },
      "source": [
        "<a href=\"https://colab.research.google.com/github/matsunagalab/lecture_ML/blob/main/machine_learning_01.ipynb\" target=\"_parent\"><img src=\"https://colab.research.google.com/assets/colab-badge.svg\" alt=\"Open In Colab\"/></a>"
      ]
    },
    {
      "cell_type": "markdown",
      "source": [
        "# Pythonの基礎"
      ],
      "metadata": {
        "id": "Y3pXof4n2o2j"
      }
    },
    {
      "cell_type": "markdown",
      "source": [
        "## 変数とデータ型"
      ],
      "metadata": {
        "id": "rlRGUD8b287r"
      }
    },
    {
      "cell_type": "code",
      "execution_count": null,
      "metadata": {
        "id": "PqShvXJgzJ7D"
      },
      "outputs": [],
      "source": [
        "# 変数\n",
        "x = 5\n",
        "name = \"John\"\n",
        "is_student = True\n",
        "\n",
        "# データ型\n",
        "integer_example = 42\n",
        "float_example = 3.14\n",
        "string_example = \"Hello, World!\"\n",
        "boolean_example = False"
      ]
    },
    {
      "cell_type": "markdown",
      "source": [
        "## 基本的な算術演算"
      ],
      "metadata": {
        "id": "KLdzUrZr3C8k"
      }
    },
    {
      "cell_type": "code",
      "source": [
        "# 足し算\n",
        "result = 3 + 5\n",
        "print(result)  # Output: 8\n",
        "\n",
        "# 引き算\n",
        "result = 10 - 6\n",
        "print(result)  # Output: 4\n",
        "\n",
        "# 掛け算\n",
        "result = 7 * 2\n",
        "print(result)  # Output: 14\n",
        "\n",
        "# 割り算\n",
        "result = 9 / 3\n",
        "print(result)  # Output: 3.0\n",
        "\n",
        "# 剰余\n",
        "result = 10 % 3\n",
        "print(result)  # Output: 1"
      ],
      "metadata": {
        "id": "skeefhxM2Jmt"
      },
      "execution_count": null,
      "outputs": []
    },
    {
      "cell_type": "markdown",
      "source": [
        "## リスト"
      ],
      "metadata": {
        "id": "sAYCuQZk3TyM"
      }
    },
    {
      "cell_type": "code",
      "source": [
        "# リストの作成\n",
        "fruits = [\"apple\", \"banana\", \"cherry\"]\n",
        "\n",
        "# リストの要素へのアクセス\n",
        "print(fruits[1])  # Output: \"banana\"\n",
        "\n",
        "# リストへ要素を追加\n",
        "fruits.append(\"orange\")\n",
        "\n",
        "# リストから要素を削除\n",
        "fruits.remove(\"banana\")"
      ],
      "metadata": {
        "id": "3LJW2CX22M96"
      },
      "execution_count": null,
      "outputs": []
    },
    {
      "cell_type": "markdown",
      "source": [
        "## 辞書"
      ],
      "metadata": {
        "id": "IMZZzvah3Vje"
      }
    },
    {
      "cell_type": "code",
      "source": [
        "# 辞書の作成\n",
        "student = {\"name\": \"John\", \"age\": 20, \"major\": \"Computer Science\"}\n",
        "\n",
        "# 辞書の要素へアクセス\n",
        "print(student[\"name\"])  # Output: \"John\"\n",
        "\n",
        "# 辞書へkey-valueペアを追加\n",
        "student[\"GPA\"] = 3.5\n",
        "\n",
        "# 辞書からkey-valueペアを削除\n",
        "del student[\"age\"]"
      ],
      "metadata": {
        "id": "sQb97mb22O6M"
      },
      "execution_count": null,
      "outputs": []
    },
    {
      "cell_type": "markdown",
      "source": [
        "## 制御構文"
      ],
      "metadata": {
        "id": "Ng3YKGck3XZ-"
      }
    },
    {
      "cell_type": "code",
      "source": [
        "# If文の例\n",
        "x = 10\n",
        "\n",
        "if x > 5:\n",
        "    print(\"x is greater than 5\")\n",
        "else:\n",
        "    print(\"x is less than or equal to 5\")"
      ],
      "metadata": {
        "id": "TWWawONM2Qvy"
      },
      "execution_count": null,
      "outputs": []
    },
    {
      "cell_type": "markdown",
      "source": [
        "## ループ"
      ],
      "metadata": {
        "id": "avnDXDAT3dzF"
      }
    },
    {
      "cell_type": "code",
      "source": [
        "# ループの例\n",
        "fruits = [\"apple\", \"banana\", \"cherry\"]\n",
        "\n",
        "for fruit in fruits:\n",
        "    print(fruit)"
      ],
      "metadata": {
        "id": "m3HPK4Wk2S0K"
      },
      "execution_count": null,
      "outputs": []
    },
    {
      "cell_type": "markdown",
      "source": [
        "## 関数"
      ],
      "metadata": {
        "id": "g5ON4bdS3g2K"
      }
    },
    {
      "cell_type": "code",
      "source": [
        "# 関数の定義\n",
        "def greet(name):\n",
        "    return f\"Hello, {name}!\"\n",
        "\n",
        "# Calling a function\n",
        "print(greet(\"John\"))  # Output: \"Hello, John!\""
      ],
      "metadata": {
        "id": "g7-MoVQo2UXZ"
      },
      "execution_count": null,
      "outputs": []
    },
    {
      "cell_type": "markdown",
      "source": [
        "## 関数の応用"
      ],
      "metadata": {
        "id": "vmgGuSDH3iu_"
      }
    },
    {
      "cell_type": "code",
      "source": [
        "# 受け取ったリストが持つ偶数の和を出力する関数\n",
        "def sum_even_numbers(numbers):\n",
        "    even_sum = 0\n",
        "    for num in numbers:\n",
        "        if num % 2 == 0:\n",
        "            even_sum += num\n",
        "    return even_sum\n",
        "\n",
        "# Test the function\n",
        "print(sum_even_numbers([1, 2, 3, 4, 5, 6]))  # Output: 12"
      ],
      "metadata": {
        "id": "hy5menXH2V5c"
      },
      "execution_count": null,
      "outputs": []
    },
    {
      "cell_type": "markdown",
      "source": [
        "# グラフの描画"
      ],
      "metadata": {
        "id": "TVzK7mvV2wzY"
      }
    },
    {
      "cell_type": "markdown",
      "source": [
        "## matplotlibのインポート"
      ],
      "metadata": {
        "id": "6sfTogRO3pV6"
      }
    },
    {
      "cell_type": "code",
      "source": [
        "# matplotlibのインポート\n",
        "import matplotlib.pyplot as plt"
      ],
      "metadata": {
        "id": "nttIU69A2YMX"
      },
      "execution_count": null,
      "outputs": []
    },
    {
      "cell_type": "markdown",
      "source": [
        "## インプルな折れ線グラフの描画"
      ],
      "metadata": {
        "id": "zL8ol98A3vY4"
      }
    },
    {
      "cell_type": "code",
      "source": [
        "# サンプルデータ\n",
        "x = [1, 2, 3, 4, 5]\n",
        "y = [2, 4, 6, 8, 10]\n",
        "\n",
        "# 折れ線グラフの描画\n",
        "plt.plot(x, y)\n",
        "\n",
        "# ラベルとタイトルの追加\n",
        "plt.xlabel(\"X-axis\")\n",
        "plt.ylabel(\"Y-axis\")\n",
        "plt.title(\"Simple Line Plot\")\n",
        "\n",
        "# グラフの表示\n",
        "plt.show()"
      ],
      "metadata": {
        "id": "tZothniO2beo"
      },
      "execution_count": null,
      "outputs": []
    },
    {
      "cell_type": "markdown",
      "source": [
        "## 散布図の描画"
      ],
      "metadata": {
        "id": "s6PFV7Dy31mS"
      }
    },
    {
      "cell_type": "code",
      "source": [
        "# サンプルデータ\n",
        "x = [1, 2, 3, 4, 5]\n",
        "y = [2, 4, 6, 8, 10]\n",
        "\n",
        "# 散布図の描画\n",
        "plt.scatter(x, y)\n",
        "\n",
        "# ラベルとタイトルの追加\n",
        "plt.xlabel(\"X-axis\")\n",
        "plt.ylabel(\"Y-axis\")\n",
        "plt.title(\"Simple Scatter Plot\")\n",
        "\n",
        "# グラフの表示\n",
        "plt.show()"
      ],
      "metadata": {
        "id": "bVBIxN6R2dZs"
      },
      "execution_count": null,
      "outputs": []
    },
    {
      "cell_type": "markdown",
      "source": [
        "## 棒グラフの描画"
      ],
      "metadata": {
        "id": "qlgrrTHk34JT"
      }
    },
    {
      "cell_type": "code",
      "source": [
        "# サンプルデータ\n",
        "labels = [\"Category A\", \"Category B\", \"Category C\"]\n",
        "values = [10, 20, 30]\n",
        "\n",
        "# 棒グラフの描画\n",
        "plt.bar(labels, values)\n",
        "\n",
        "# ラベルとタイトルの追加\n",
        "plt.xlabel(\"Categories\")\n",
        "plt.ylabel(\"Values\")\n",
        "plt.title(\"Simple Bar Plot\")\n",
        "\n",
        "# グラフの表示\n",
        "plt.show()"
      ],
      "metadata": {
        "id": "Bv11zH0C2f0B"
      },
      "execution_count": null,
      "outputs": []
    },
    {
      "cell_type": "markdown",
      "source": [
        "## グラフのカスタマイズ"
      ],
      "metadata": {
        "id": "QkneVJiX37Ut"
      }
    },
    {
      "cell_type": "code",
      "source": [
        "# サンプルデータ\n",
        "x = [1, 2, 3, 4, 5]\n",
        "y = [2, 4, 6, 8, 10]\n",
        "\n",
        "# 折れ線グラフのカスタマイズ\n",
        "plt.plot(x, y, linestyle='--', marker='o', color='red')\n",
        "\n",
        "# ラベルとタイトルの追加\n",
        "plt.xlabel(\"X-axis\")\n",
        "plt.ylabel(\"Y-axis\")\n",
        "plt.title(\"Customized Line Plot\")\n",
        "\n",
        "# グラフの表示\n",
        "plt.show()"
      ],
      "metadata": {
        "id": "d0eCrsxO2ibl"
      },
      "execution_count": null,
      "outputs": []
    },
    {
      "cell_type": "markdown",
      "source": [
        "# 更なる学習"
      ],
      "metadata": {
        "id": "Vou8C_tP4A4b"
      }
    },
    {
      "cell_type": "markdown",
      "source": [
        "Pythonを学習するためのコンテンツはネットに多くあるので自分に合うものを見つけて学習してみてください。Google Colabで体験できる教材が良いと思います。思います。おすすめは例えば東大の数理・情報教育センターが公開している以下の教材です。\n",
        "\n",
        "Pythonプログラミング入門\n",
        "\n",
        "https://utokyo-ipp.github.io\n",
        "\n"
      ],
      "metadata": {
        "id": "jodMqh-54DN7"
      }
    },
    {
      "cell_type": "code",
      "source": [],
      "metadata": {
        "id": "saG-4ya43_id"
      },
      "execution_count": null,
      "outputs": []
    }
  ]
}